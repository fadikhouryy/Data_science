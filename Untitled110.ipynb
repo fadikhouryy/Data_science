{
 "cells": [
  {
   "cell_type": "markdown",
   "id": "1cb18f5e",
   "metadata": {},
   "source": [
    "1-Download the IMDB dataset of top 1000 movies and TV shows from Kaggle and load it into a pandas dataframe using the read_csv() function."
   ]
  },
  {
   "cell_type": "code",
   "execution_count": 2,
   "id": "e77bf8c8",
   "metadata": {},
   "outputs": [],
   "source": [
    "import pandas as pd\n",
    "df= pd.read_csv('imdb_top_1000.csv')"
   ]
  },
  {
   "cell_type": "markdown",
   "id": "eb1a600b",
   "metadata": {},
   "source": [
    "2- clean and preprocess the data by removing unnecessary columns and handling missing values."
   ]
  },
  {
   "cell_type": "code",
   "execution_count": 6,
   "id": "05e9709e",
   "metadata": {},
   "outputs": [],
   "source": [
    "df=df.drop(['Gross', 'No_of_Votes', 'Star4','Star3','Star2','Star1','Overview','Runtime','Certificate','Released_Year','Poster_Link'], axis=1)"
   ]
  },
  {
   "cell_type": "code",
   "execution_count": 7,
   "id": "b2bfae54",
   "metadata": {},
   "outputs": [
    {
     "data": {
      "text/plain": [
       "Index(['Series_Title', 'Genre', 'IMDB_Rating', 'Meta_score', 'Director'], dtype='object')"
      ]
     },
     "execution_count": 7,
     "metadata": {},
     "output_type": "execute_result"
    }
   ],
   "source": [
    "df.columns"
   ]
  },
  {
   "cell_type": "code",
   "execution_count": 8,
   "id": "0fce49e1",
   "metadata": {},
   "outputs": [
    {
     "data": {
      "text/plain": [
       "Series_Title      0\n",
       "Genre             0\n",
       "IMDB_Rating       0\n",
       "Meta_score      157\n",
       "Director          0\n",
       "dtype: int64"
      ]
     },
     "execution_count": 8,
     "metadata": {},
     "output_type": "execute_result"
    }
   ],
   "source": [
    "df.isnull().sum(axis=0)"
   ]
  },
  {
   "cell_type": "code",
   "execution_count": 9,
   "id": "5aa33a65",
   "metadata": {},
   "outputs": [],
   "source": [
    "df.fillna(0, inplace = True)"
   ]
  },
  {
   "cell_type": "code",
   "execution_count": 10,
   "id": "5cd62242",
   "metadata": {},
   "outputs": [
    {
     "data": {
      "text/html": [
       "<div>\n",
       "<style scoped>\n",
       "    .dataframe tbody tr th:only-of-type {\n",
       "        vertical-align: middle;\n",
       "    }\n",
       "\n",
       "    .dataframe tbody tr th {\n",
       "        vertical-align: top;\n",
       "    }\n",
       "\n",
       "    .dataframe thead th {\n",
       "        text-align: right;\n",
       "    }\n",
       "</style>\n",
       "<table border=\"1\" class=\"dataframe\">\n",
       "  <thead>\n",
       "    <tr style=\"text-align: right;\">\n",
       "      <th></th>\n",
       "      <th>Series_Title</th>\n",
       "      <th>Genre</th>\n",
       "      <th>IMDB_Rating</th>\n",
       "      <th>Meta_score</th>\n",
       "      <th>Director</th>\n",
       "    </tr>\n",
       "  </thead>\n",
       "  <tbody>\n",
       "    <tr>\n",
       "      <th>0</th>\n",
       "      <td>The Shawshank Redemption</td>\n",
       "      <td>Drama</td>\n",
       "      <td>9.3</td>\n",
       "      <td>80.0</td>\n",
       "      <td>Frank Darabont</td>\n",
       "    </tr>\n",
       "    <tr>\n",
       "      <th>1</th>\n",
       "      <td>The Godfather</td>\n",
       "      <td>Crime, Drama</td>\n",
       "      <td>9.2</td>\n",
       "      <td>100.0</td>\n",
       "      <td>Francis Ford Coppola</td>\n",
       "    </tr>\n",
       "    <tr>\n",
       "      <th>2</th>\n",
       "      <td>The Dark Knight</td>\n",
       "      <td>Action, Crime, Drama</td>\n",
       "      <td>9.0</td>\n",
       "      <td>84.0</td>\n",
       "      <td>Christopher Nolan</td>\n",
       "    </tr>\n",
       "    <tr>\n",
       "      <th>3</th>\n",
       "      <td>The Godfather: Part II</td>\n",
       "      <td>Crime, Drama</td>\n",
       "      <td>9.0</td>\n",
       "      <td>90.0</td>\n",
       "      <td>Francis Ford Coppola</td>\n",
       "    </tr>\n",
       "    <tr>\n",
       "      <th>4</th>\n",
       "      <td>12 Angry Men</td>\n",
       "      <td>Crime, Drama</td>\n",
       "      <td>9.0</td>\n",
       "      <td>96.0</td>\n",
       "      <td>Sidney Lumet</td>\n",
       "    </tr>\n",
       "  </tbody>\n",
       "</table>\n",
       "</div>"
      ],
      "text/plain": [
       "               Series_Title                 Genre  IMDB_Rating  Meta_score  \\\n",
       "0  The Shawshank Redemption                 Drama          9.3        80.0   \n",
       "1             The Godfather          Crime, Drama          9.2       100.0   \n",
       "2           The Dark Knight  Action, Crime, Drama          9.0        84.0   \n",
       "3    The Godfather: Part II          Crime, Drama          9.0        90.0   \n",
       "4              12 Angry Men          Crime, Drama          9.0        96.0   \n",
       "\n",
       "               Director  \n",
       "0        Frank Darabont  \n",
       "1  Francis Ford Coppola  \n",
       "2     Christopher Nolan  \n",
       "3  Francis Ford Coppola  \n",
       "4          Sidney Lumet  "
      ]
     },
     "execution_count": 10,
     "metadata": {},
     "output_type": "execute_result"
    }
   ],
   "source": [
    "df.head()"
   ]
  },
  {
   "cell_type": "markdown",
   "id": "d4940285",
   "metadata": {},
   "source": [
    "3- Explore the data to identify the most popular genre of movies and TV shows using pandas."
   ]
  },
  {
   "cell_type": "code",
   "execution_count": 40,
   "id": "d913039c",
   "metadata": {},
   "outputs": [],
   "source": [
    "gener_df=df['Genre'].value_counts()\n"
   ]
  },
  {
   "cell_type": "code",
   "execution_count": 42,
   "id": "2bec1c21",
   "metadata": {},
   "outputs": [
    {
     "data": {
      "text/plain": [
       "'Drama'"
      ]
     },
     "execution_count": 42,
     "metadata": {},
     "output_type": "execute_result"
    }
   ],
   "source": [
    "gener_df.idxmax()"
   ]
  },
  {
   "cell_type": "markdown",
   "id": "b1461532",
   "metadata": {},
   "source": [
    "The most populer is Drama ."
   ]
  },
  {
   "cell_type": "markdown",
   "id": "c9801f0f",
   "metadata": {},
   "source": [
    "4- Create a new dataframe containing the count of movies/TV shows in each genre using pandas ."
   ]
  },
  {
   "cell_type": "code",
   "execution_count": 13,
   "id": "b8ab2cda",
   "metadata": {},
   "outputs": [],
   "source": [
    "df_Genre = df.groupby('Genre').Genre.count()"
   ]
  },
  {
   "cell_type": "code",
   "execution_count": 29,
   "id": "9adc538c",
   "metadata": {
    "scrolled": true
   },
   "outputs": [
    {
     "data": {
      "text/plain": [
       "Genre\n",
       "Drama                        85\n",
       "Drama, Romance               37\n",
       "Comedy, Drama                35\n",
       "Comedy, Drama, Romance       31\n",
       "Action, Crime, Drama         30\n",
       "                             ..\n",
       "Action, Crime, Mystery        1\n",
       "Crime, Drama, Sci-Fi          1\n",
       "Animation, Crime, Mystery     1\n",
       "Animation, Drama, Romance     1\n",
       "Crime, Drama, Horror          1\n",
       "Name: Genre, Length: 202, dtype: int64"
      ]
     },
     "execution_count": 29,
     "metadata": {},
     "output_type": "execute_result"
    }
   ],
   "source": [
    "df_Genre.sort_values(ascending=False)"
   ]
  },
  {
   "cell_type": "markdown",
   "id": "4670f8b4",
   "metadata": {},
   "source": [
    "5- Visualize the data using a bar chart to show the most popular genre of movies/TV shows using pandas and the matplotlib library."
   ]
  },
  {
   "cell_type": "code",
   "execution_count": 23,
   "id": "bf7ae2de",
   "metadata": {},
   "outputs": [],
   "source": [
    "import matplotlib.pyplot as plt"
   ]
  },
  {
   "cell_type": "code",
   "execution_count": 43,
   "id": "48f58a43",
   "metadata": {},
   "outputs": [
    {
     "data": {
      "image/png": "[encoded data removed]",
      "text/plain": [
       "<Figure size 640x480 with 1 Axes>"
      ]
     },
     "metadata": {},
     "output_type": "display_data"
    }
   ],
   "source": [
    "gener_df[:10].plot(kind='bar', legend=None)\n",
    "plt.xlabel(\"Genre\")\n",
    "plt.ylabel(\"Count\")\n",
    "plt.title(\"Top Rated Movies/TV Shows by Genre\")\n",
    "plt.show()"
   ]
  },
  {
   "cell_type": "markdown",
   "id": "1a4dfe58",
   "metadata": {},
   "source": [
    "6- Identify the director with the most top-rated movies/TV shows by creating a new dataframe containing the count of movies/TV shows directed by each director using pandas ."
   ]
  },
  {
   "cell_type": "code",
   "execution_count": 57,
   "id": "c4b904c3",
   "metadata": {},
   "outputs": [],
   "source": [
    "director_df = df['Director'].value_counts().reset_index()"
   ]
  },
  {
   "cell_type": "code",
   "execution_count": 59,
   "id": "b4b5be74",
   "metadata": {},
   "outputs": [],
   "source": [
    "director_df.columns=['Director', 'count']"
   ]
  },
  {
   "cell_type": "code",
   "execution_count": 60,
   "id": "862d2bab",
   "metadata": {},
   "outputs": [
    {
     "data": {
      "text/html": [
       "<div>\n",
       "<style scoped>\n",
       "    .dataframe tbody tr th:only-of-type {\n",
       "        vertical-align: middle;\n",
       "    }\n",
       "\n",
       "    .dataframe tbody tr th {\n",
       "        vertical-align: top;\n",
       "    }\n",
       "\n",
       "    .dataframe thead th {\n",
       "        text-align: right;\n",
       "    }\n",
       "</style>\n",
       "<table border=\"1\" class=\"dataframe\">\n",
       "  <thead>\n",
       "    <tr style=\"text-align: right;\">\n",
       "      <th></th>\n",
       "      <th>Director</th>\n",
       "      <th>count</th>\n",
       "    </tr>\n",
       "  </thead>\n",
       "  <tbody>\n",
       "    <tr>\n",
       "      <th>0</th>\n",
       "      <td>Alfred Hitchcock</td>\n",
       "      <td>14</td>\n",
       "    </tr>\n",
       "    <tr>\n",
       "      <th>1</th>\n",
       "      <td>Steven Spielberg</td>\n",
       "      <td>13</td>\n",
       "    </tr>\n",
       "    <tr>\n",
       "      <th>2</th>\n",
       "      <td>Hayao Miyazaki</td>\n",
       "      <td>11</td>\n",
       "    </tr>\n",
       "    <tr>\n",
       "      <th>3</th>\n",
       "      <td>Martin Scorsese</td>\n",
       "      <td>10</td>\n",
       "    </tr>\n",
       "    <tr>\n",
       "      <th>4</th>\n",
       "      <td>Akira Kurosawa</td>\n",
       "      <td>10</td>\n",
       "    </tr>\n",
       "  </tbody>\n",
       "</table>\n",
       "</div>"
      ],
      "text/plain": [
       "           Director  count\n",
       "0  Alfred Hitchcock     14\n",
       "1  Steven Spielberg     13\n",
       "2    Hayao Miyazaki     11\n",
       "3   Martin Scorsese     10\n",
       "4    Akira Kurosawa     10"
      ]
     },
     "execution_count": 60,
     "metadata": {},
     "output_type": "execute_result"
    }
   ],
   "source": [
    "director_df.head()"
   ]
  },
  {
   "cell_type": "markdown",
   "id": "0130a8b1",
   "metadata": {},
   "source": [
    "7- Visualize the data using a bar chart to show the director with the most top-rated movies/TV shows using pandas and matplotlib."
   ]
  },
  {
   "cell_type": "code",
   "execution_count": 62,
   "id": "1c014e39",
   "metadata": {},
   "outputs": [
    {
     "data": {
      "image/png": "[encoded data removed]",
      "text/plain": [
       "<Figure size 640x480 with 1 Axes>"
      ]
     },
     "metadata": {},
     "output_type": "display_data"
    }
   ],
   "source": [
    "director_df[:10].plot(kind='bar', legend=None)\n",
    "plt.xlabel(\"Director\")\n",
    "plt.ylabel(\"Count\")\n",
    "plt.title(\"Top Rated Movies/TV Shows by Genre\")\n",
    "plt.show()"
   ]
  },
  {
   "cell_type": "markdown",
   "id": "2c7846e0",
   "metadata": {},
   "source": [
    "8- Write a report summarizing your analysis and findings, including any insights or observations you discovered, using markdown cells in the Jupyter notebook.\n"
   ]
  },
  {
   "cell_type": "markdown",
   "id": "e28e31aa",
   "metadata": {},
   "source": [
    "1- Meta_score column have the most null values.\n",
    "2- The most populer gener is Drama.\n",
    "3- The most populer gener is Alfred Hitchcock."
   ]
  }
 ],
 "metadata": {
  "kernelspec": {
   "display_name": "Python 3 (ipykernel)",
   "language": "python",
   "name": "python3"
  },
  "language_info": {
   "codemirror_mode": {
    "name": "ipython",
    "version": 3
   },
   "file_extension": ".py",
   "mimetype": "text/x-python",
   "name": "python",
   "nbconvert_exporter": "python",
   "pygments_lexer": "ipython3",
   "version": "3.9.13"
  }
 },
 "nbformat": 4,
 "nbformat_minor": 5
}
